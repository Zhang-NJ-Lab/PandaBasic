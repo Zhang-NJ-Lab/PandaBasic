{
 "cells": [
  {
   "cell_type": "code",
   "execution_count": 1,
   "id": "50e6c221-fe38-461f-9c60-385d26191cb8",
   "metadata": {},
   "outputs": [
    {
     "name": "stdout",
     "output_type": "stream",
     "text": [
      "[1 0 0 1 0 1 2 2 1 1 2 0 0 0 0 1 2 2 0 0 1 1 1 2 0 1 1 0 1 2 0 0 0 0 2 1 1\n",
      " 2 0 0 0 0 0 1 1 2 0 2 0 1 2 2 2 2 1 0 2 0 1 2 1 2 2 2 1 2 1 1 0 0 0 0 1 2\n",
      " 2 0 0 2 1 2 0 1 2 2 0 1 0 1 1 1 1 1 0 0 1 0 2 0 2 0 2 2 2 2 2]\n",
      "[1 1 1 0 2 1 1 1 1 2 2 1 2 1 0 2 0 0 0 0 0 1 2 2 2 2 1 2 0 1 2 0 2 2 1 2 2\n",
      " 2 1 0 0 0 2 1 1]\n",
      "[1 1 2 0 2 1 1 1 1 2 2 1 2 1 0 2 0 0 0 0 0 1 2 2 2 2 1 2 0 1 2 0 2 1 1 2 2\n",
      " 1 1 0 0 0 2 1 1]\n"
     ]
    },
    {
     "data": {
      "text/plain": [
       "'\\n[1 1 1 0 1 2 1 1 1 0 0 0 2 2 0 1 2 2 0 1 0 0 0 0 0 0 2 1 0 0 0 1 0 2 0 2 0\\n 1 2 1 0 0 1 0 2]\\n'"
      ]
     },
     "execution_count": 1,
     "metadata": {},
     "output_type": "execute_result"
    }
   ],
   "source": [
    "from sklearn import datasets#引入数据集,sklearn包含众多数据集\n",
    "from sklearn.model_selection import train_test_split#将数据分为测试集和训练集\n",
    "from sklearn.neighbors import KNeighborsClassifier#利用邻近点方式训练数据\n",
    "\n",
    "###引入数据###\n",
    "iris=datasets.load_iris()#引入iris鸢尾花数据,iris数据包含4个特征变量\n",
    "iris_X=iris.data#特征变量\n",
    "iris_y=iris.target#目标值\n",
    "X_train,X_test,y_train,y_test=train_test_split(iris_X,iris_y,test_size=0.3)#利用train_test_split进行将训练集和测试集进行分开，test_size占30%\n",
    "print(y_train)#我们看到训练数据的特征值分为3类\n",
    "'''\n",
    "[0 0 0 0 0 0 0 0 0 0 0 0 0 0 0 0 0 0 0 0 0 0 0 0 0 0 0 0 0 0 0 0 0 0 0 0 0\n",
    " 0 0 0 0 0 0 0 0 0 0 0 0 0 1 1 1 1 1 1 1 1 1 1 1 1 1 1 1 1 1 1 1 1 1 1 1 1\n",
    " 1 1 1 1 1 1 1 1 1 1 1 1 1 1 1 1 1 1 1 1 1 1 1 1 1 1 2 2 2 2 2 2 2 2 2 2 2\n",
    " 2 2 2 2 2 2 2 2 2 2 2 2 2 2 2 2 2 2 2 2 2 2 2 2 2 2 2 2 2 2 2 2 2 2 2 2 2\n",
    " 2 2]\n",
    " '''\n",
    "\n",
    "###训练数据###\n",
    "knn=KNeighborsClassifier()#引入训练方法\n",
    "knn.fit(X_train,y_train)#进行填充测试数据进行训练\n",
    "\n",
    "###预测数据###\n",
    "print(knn.predict(X_test))#预测特征值\n",
    "'''\n",
    "[1 1 1 0 2 2 1 1 1 0 0 0 2 2 0 1 2 2 0 1 0 0 0 0 0 0 2 1 0 0 0 1 0 2 0 2 0\n",
    " 1 2 1 0 0 1 0 2]\n",
    "'''\n",
    "print(y_test)#真实特征值\n",
    "'''\n",
    "[1 1 1 0 1 2 1 1 1 0 0 0 2 2 0 1 2 2 0 1 0 0 0 0 0 0 2 1 0 0 0 1 0 2 0 2 0\n",
    " 1 2 1 0 0 1 0 2]\n",
    "'''\n"
   ]
  },
  {
   "cell_type": "code",
   "execution_count": 2,
   "id": "76829442-55f3-4abc-9f7f-0e73f8343025",
   "metadata": {},
   "outputs": [
    {
     "data": {
      "text/plain": [
       "array([[6.4, 2.9, 4.3, 1.3],\n",
       "       [5.5, 2.4, 3.8, 1.1],\n",
       "       [4.9, 2.5, 4.5, 1.7],\n",
       "       [5.1, 3.3, 1.7, 0.5],\n",
       "       [6.1, 2.6, 5.6, 1.4],\n",
       "       [5.8, 2.7, 3.9, 1.2],\n",
       "       [6.8, 2.8, 4.8, 1.4],\n",
       "       [5.7, 2.9, 4.2, 1.3],\n",
       "       [6.3, 3.3, 4.7, 1.6],\n",
       "       [6.9, 3.1, 5.4, 2.1],\n",
       "       [6.5, 3. , 5.2, 2. ],\n",
       "       [6. , 2.9, 4.5, 1.5],\n",
       "       [6.5, 3. , 5.8, 2.2],\n",
       "       [6.7, 3.1, 4.4, 1.4],\n",
       "       [5.1, 3.8, 1.5, 0.3],\n",
       "       [7.7, 2.6, 6.9, 2.3],\n",
       "       [5.1, 3.8, 1.6, 0.2],\n",
       "       [5.4, 3.7, 1.5, 0.2],\n",
       "       [4.6, 3.6, 1. , 0.2],\n",
       "       [5.7, 3.8, 1.7, 0.3],\n",
       "       [4.7, 3.2, 1.3, 0.2],\n",
       "       [6.1, 2.8, 4.7, 1.2],\n",
       "       [6.4, 2.8, 5.6, 2.2],\n",
       "       [6.4, 2.8, 5.6, 2.1],\n",
       "       [7.7, 2.8, 6.7, 2. ],\n",
       "       [7.6, 3. , 6.6, 2.1],\n",
       "       [5.2, 2.7, 3.9, 1.4],\n",
       "       [6.3, 2.8, 5.1, 1.5],\n",
       "       [4.9, 3.6, 1.4, 0.1],\n",
       "       [6.1, 2.8, 4. , 1.3],\n",
       "       [7.3, 2.9, 6.3, 1.8],\n",
       "       [5.3, 3.7, 1.5, 0.2],\n",
       "       [6.4, 3.2, 5.3, 2.3],\n",
       "       [6.2, 2.2, 4.5, 1.5],\n",
       "       [6.7, 3. , 5. , 1.7],\n",
       "       [6.7, 3.3, 5.7, 2.1],\n",
       "       [5.8, 2.8, 5.1, 2.4],\n",
       "       [6. , 2.7, 5.1, 1.6],\n",
       "       [5.7, 3. , 4.2, 1.2],\n",
       "       [5. , 3.2, 1.2, 0.2],\n",
       "       [4.8, 3.4, 1.9, 0.2],\n",
       "       [5. , 3.4, 1.5, 0.2],\n",
       "       [7.1, 3. , 5.9, 2.1],\n",
       "       [5.6, 3. , 4.5, 1.5],\n",
       "       [6.3, 2.3, 4.4, 1.3]])"
      ]
     },
     "execution_count": 2,
     "metadata": {},
     "output_type": "execute_result"
    }
   ],
   "source": [
    "X_test"
   ]
  },
  {
   "cell_type": "code",
   "execution_count": 13,
   "id": "67b21955-c782-497d-b909-bc12f6cf3813",
   "metadata": {},
   "outputs": [
    {
     "data": {
      "text/plain": [
       "array([1, 1, 1, 0])"
      ]
     },
     "execution_count": 13,
     "metadata": {},
     "output_type": "execute_result"
    }
   ],
   "source": [
    "import numpy as np\n",
    "x_PredictionNew = np.array([[6.4, 2.9, 4.3, 1.3],\n",
    "       [6.5, 3.4, 2.8, 1.1],\n",
    "       [3.9, 1.5, 3.5, 2.7],\n",
    "       [2.1, 3.3, 1.7, 0.5]])\n",
    "y_PredictionNew = knn.predict(x_PredictionNew)\n",
    "y_PredictionNew"
   ]
  },
  {
   "cell_type": "code",
   "execution_count": 15,
   "id": "8db5a68f-0ee6-49f1-9383-1467ec1a7367",
   "metadata": {},
   "outputs": [],
   "source": [
    "import pandas as pd\n",
    "z = pd.concat([pd.DataFrame(x_PridictionNew), pd.DataFrame(y_PredictionNew)],axis=1)"
   ]
  },
  {
   "cell_type": "code",
   "execution_count": 23,
   "id": "0655eaf4-9526-4c4f-b688-f0e70eb7f902",
   "metadata": {},
   "outputs": [
    {
     "data": {
      "text/html": [
       "<div>\n",
       "<style scoped>\n",
       "    .dataframe tbody tr th:only-of-type {\n",
       "        vertical-align: middle;\n",
       "    }\n",
       "\n",
       "    .dataframe tbody tr th {\n",
       "        vertical-align: top;\n",
       "    }\n",
       "\n",
       "    .dataframe thead th {\n",
       "        text-align: right;\n",
       "    }\n",
       "</style>\n",
       "<table border=\"1\" class=\"dataframe\">\n",
       "  <thead>\n",
       "    <tr style=\"text-align: right;\">\n",
       "      <th></th>\n",
       "      <th>A</th>\n",
       "      <th>B</th>\n",
       "      <th>c</th>\n",
       "      <th>d</th>\n",
       "      <th>e</th>\n",
       "    </tr>\n",
       "  </thead>\n",
       "  <tbody>\n",
       "    <tr>\n",
       "      <th>0</th>\n",
       "      <td>6.4</td>\n",
       "      <td>2.9</td>\n",
       "      <td>4.3</td>\n",
       "      <td>1.3</td>\n",
       "      <td>1</td>\n",
       "    </tr>\n",
       "    <tr>\n",
       "      <th>1</th>\n",
       "      <td>6.5</td>\n",
       "      <td>3.4</td>\n",
       "      <td>2.8</td>\n",
       "      <td>1.1</td>\n",
       "      <td>1</td>\n",
       "    </tr>\n",
       "    <tr>\n",
       "      <th>2</th>\n",
       "      <td>3.9</td>\n",
       "      <td>1.5</td>\n",
       "      <td>3.5</td>\n",
       "      <td>2.7</td>\n",
       "      <td>1</td>\n",
       "    </tr>\n",
       "    <tr>\n",
       "      <th>3</th>\n",
       "      <td>2.1</td>\n",
       "      <td>3.3</td>\n",
       "      <td>1.7</td>\n",
       "      <td>0.5</td>\n",
       "      <td>0</td>\n",
       "    </tr>\n",
       "  </tbody>\n",
       "</table>\n",
       "</div>"
      ],
      "text/plain": [
       "     A    B    c    d  e\n",
       "0  6.4  2.9  4.3  1.3  1\n",
       "1  6.5  3.4  2.8  1.1  1\n",
       "2  3.9  1.5  3.5  2.7  1\n",
       "3  2.1  3.3  1.7  0.5  0"
      ]
     },
     "execution_count": 23,
     "metadata": {},
     "output_type": "execute_result"
    }
   ],
   "source": [
    "z.columns = ['a', 'b', 'c', 'd', 'e']\n",
    "z = z.rename(columns={'a':'A','b':'B'})\n",
    "z"
   ]
  },
  {
   "cell_type": "code",
   "execution_count": null,
   "id": "f31bf653-5e26-46b8-8998-00ef891da17b",
   "metadata": {},
   "outputs": [],
   "source": []
  }
 ],
 "metadata": {
  "kernelspec": {
   "display_name": "Python [conda env:py37]",
   "language": "python",
   "name": "conda-env-py37-py"
  },
  "language_info": {
   "codemirror_mode": {
    "name": "ipython",
    "version": 3
   },
   "file_extension": ".py",
   "mimetype": "text/x-python",
   "name": "python",
   "nbconvert_exporter": "python",
   "pygments_lexer": "ipython3",
   "version": "3.7.0"
  }
 },
 "nbformat": 4,
 "nbformat_minor": 5
}
